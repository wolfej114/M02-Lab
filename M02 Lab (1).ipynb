{
 "cells": [
  {
   "cell_type": "code",
   "execution_count": 7,
   "id": "91fea67f",
   "metadata": {},
   "outputs": [
    {
     "name": "stdout",
     "output_type": "stream",
     "text": [
      "Enter student last name or ZZZ to exit: Clark\n",
      "Enter the student's first name: Mary\n",
      "Enter student GPA: 3.3\n",
      "Mary Clark made the Honor Roll\n",
      "Enter student last name or ZZZ to exit: Smith\n",
      "Enter the student's first name: John\n",
      "Enter student GPA: 3.8\n",
      "John Smith made the Dean's List\n",
      "Enter student last name or ZZZ to exit: Oliver\n",
      "Enter the student's first name: Charles\n",
      "Enter student GPA: 3.6\n",
      "Charles Oliver made the Dean's List\n",
      "Enter student last name or ZZZ to exit: Jones\n",
      "Enter the student's first name: Kaylee\n",
      "Enter student GPA: 2.9\n",
      "Enter student last name or ZZZ to exit: Lee\n",
      "Enter the student's first name: Martin\n",
      "Enter student GPA: 3.1\n",
      "Enter student last name or ZZZ to exit: ZZZ\n"
     ]
    }
   ],
   "source": [
    "#Author: John Wolfe\n",
    "#File name: M02 Lab Case Study\n",
    "#File description: This file accepts student names and GPA and calculates if they are high enough to be on the honor roll or Dean's List\n",
    "while True:\n",
    "    last_name = input(\"Enter student last name or ZZZ to exit: \")\n",
    "    if last_name == 'ZZZ':\n",
    "        break\n",
    "    first_name = input(\"Enter the student's first name: \")\n",
    "    \n",
    "    gpa = float(input(\"Enter student GPA: \"))\n",
    "    \n",
    "    if gpa >= 3.5:\n",
    "        print(first_name,last_name,\"made the Dean's List\")\n",
    "    elif gpa >= 3.25:\n",
    "        print(first_name,last_name, \"made the Honor Roll\")\n",
    "    "
   ]
  },
  {
   "cell_type": "code",
   "execution_count": null,
   "id": "6f435ef3",
   "metadata": {},
   "outputs": [],
   "source": []
  }
 ],
 "metadata": {
  "kernelspec": {
   "display_name": "Python 3 (ipykernel)",
   "language": "python",
   "name": "python3"
  },
  "language_info": {
   "codemirror_mode": {
    "name": "ipython",
    "version": 3
   },
   "file_extension": ".py",
   "mimetype": "text/x-python",
   "name": "python",
   "nbconvert_exporter": "python",
   "pygments_lexer": "ipython3",
   "version": "3.9.13"
  }
 },
 "nbformat": 4,
 "nbformat_minor": 5
}
