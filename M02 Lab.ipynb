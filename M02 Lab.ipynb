{
 "cells": [
  {
   "cell_type": "code",
   "execution_count": 6,
   "id": "a3d1713d",
   "metadata": {},
   "outputs": [
    {
     "name": "stdout",
     "output_type": "stream",
     "text": [
      "Enter student last name or ZZZ to exit: Lee\n",
      "Enter the student's first name: Charles\n",
      "Enter student GPA: 2.9\n",
      "Enter student last name or ZZZ to exit: Smith\n",
      "Enter the student's first name: Carla\n",
      "Enter student GPA: 3.8\n",
      "Carla Smith made the Honor Roll\n",
      "Carla Smith made the Dean's List\n",
      "Enter student last name or ZZZ to exit: Hancock\n",
      "Enter the student's first name: John\n",
      "Enter student GPA: 4.0\n",
      "John Hancock made the Honor Roll\n",
      "John Hancock made the Dean's List\n",
      "Enter student last name or ZZZ to exit: Clark\n",
      "Enter the student's first name: Mary\n",
      "Enter student GPA: 3.4\n",
      "Mary Clark made the Honor Roll\n",
      "Enter student last name or ZZZ to exit: Jones\n",
      "Enter the student's first name: Bob\n",
      "Enter student GPA: 3.0\n",
      "Enter student last name or ZZZ to exit: ZZZ\n"
     ]
    }
   ],
   "source": [
    "#Author: John Wolfe\n",
    "#File name: M02 Lab Case Study\n",
    "#File description: This file accepts student names and GPA and calculates if they are high enough to be on the honor roll or Dean's List\n",
    "while True:\n",
    "    last_name = input(\"Enter student last name or ZZZ to exit: \")\n",
    "    if last_name == 'ZZZ':\n",
    "        break\n",
    "    first_name = input(\"Enter the student's first name: \")\n",
    "    \n",
    "    gpa = float(input(\"Enter student GPA: \"))\n",
    "    \n",
    "    if gpa >= 3.25:\n",
    "        print(first_name,last_name, \"made the Honor Roll\")\n",
    "        if gpa >= 3.5:\n",
    "            print(first_name,last_name,\"made the Dean's List\")"
   ]
  },
  {
   "cell_type": "code",
   "execution_count": null,
   "id": "6d60a54d",
   "metadata": {},
   "outputs": [],
   "source": []
  }
 ],
 "metadata": {
  "kernelspec": {
   "display_name": "Python 3 (ipykernel)",
   "language": "python",
   "name": "python3"
  },
  "language_info": {
   "codemirror_mode": {
    "name": "ipython",
    "version": 3
   },
   "file_extension": ".py",
   "mimetype": "text/x-python",
   "name": "python",
   "nbconvert_exporter": "python",
   "pygments_lexer": "ipython3",
   "version": "3.9.13"
  }
 },
 "nbformat": 4,
 "nbformat_minor": 5
}
